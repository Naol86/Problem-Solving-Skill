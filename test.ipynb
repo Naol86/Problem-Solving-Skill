{
 "cells": [
  {
   "cell_type": "code",
   "execution_count": 14,
   "metadata": {},
   "outputs": [],
   "source": [
    "from typing import List\n",
    "import numpy as np"
   ]
  },
  {
   "cell_type": "code",
   "execution_count": 24,
   "metadata": {},
   "outputs": [
    {
     "data": {
      "text/plain": [
       "{0, 1, 2, 3, 4, 5, 90, 'A', 'a'}"
      ]
     },
     "execution_count": 24,
     "metadata": {},
     "output_type": "execute_result"
    }
   ],
   "source": [
    "lis = {1,2,3,4,5,0,3,'a','A'}\n",
    "lis2 = [90,1,2]\n",
    "lis.update(lis2)\n",
    "lis"
   ]
  },
  {
   "cell_type": "code",
   "execution_count": null,
   "metadata": {},
   "outputs": [],
   "source": [
    "class Solution:\n",
    "    def findDifference(self, nums1: List[int], nums2: List[int]) -> List[List[int]]:\n",
    "        nums1Set = set(nums1)\n",
    "        nums2Set = set(nums2)\n",
    "        res1, res2 = set([]), set([])\n",
    "        for i in nums1:\n",
    "            if i not in nums2Set:\n",
    "                res1.add(i)\n",
    "        for i in nums2:\n",
    "            if i not in nums1Set:\n",
    "                res2.add(i)\n",
    "        \n",
    "        return [list(res1),list(res2)]"
   ]
  }
 ],
 "metadata": {
  "kernelspec": {
   "display_name": "Python 3",
   "language": "python",
   "name": "python3"
  },
  "language_info": {
   "codemirror_mode": {
    "name": "ipython",
    "version": 3
   },
   "file_extension": ".py",
   "mimetype": "text/x-python",
   "name": "python",
   "nbconvert_exporter": "python",
   "pygments_lexer": "ipython3",
   "version": "3.11.4"
  }
 },
 "nbformat": 4,
 "nbformat_minor": 2
}
