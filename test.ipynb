{
 "cells": [
  {
   "cell_type": "code",
   "execution_count": 4,
   "metadata": {},
   "outputs": [
    {
     "name": "stdout",
     "output_type": "stream",
     "text": [
      "dfsdF\n"
     ]
    }
   ],
   "source": [
    "lis = {\"a\":1,\"b\":2}\n",
    "lis1 = {\"b\":2, \"a\":1}\n",
    "if lis == lis1:\n",
    "    print(\"dfsdF\")"
   ]
  },
  {
   "cell_type": "code",
   "execution_count": 85,
   "metadata": {},
   "outputs": [
    {
     "name": "stdout",
     "output_type": "stream",
     "text": [
      "try   :  ADOBE\n",
      "ans   :  ADOBEC\n",
      "try   :  DOBECODEB\n",
      "ans   :  ADOBEC\n",
      "try   :  DOBECODEBAN\n",
      "ans   :  ADOBEC\n",
      "try   :  OBECODEBAN\n",
      "ans   :  ADOBEC\n",
      "try   :  BECODEBAN\n",
      "ans   :  ADOBEC\n",
      "try   :  ECODEBAN\n",
      "ans   :  ADOBEC\n",
      "try   :  ODEBAN\n",
      "ans   :  ADOBEC\n",
      "try   :  ODEBANC\n",
      "ans   :  ADOBEC\n",
      "try   :  DEBANC\n",
      "ans   :  EBANC\n",
      "try   :  EBANC\n",
      "ans   :  BANC\n",
      "BANC\n"
     ]
    }
   ],
   "source": [
    "class Solution:\n",
    "    def minWindow(self, s: str, t: str) -> str:\n",
    "        if len(t) > len(s):\n",
    "            return \"\"\n",
    "        _need = {}\n",
    "        _have = {}\n",
    "        count = len(t)\n",
    "        _sum = 0\n",
    "        for i in t:\n",
    "            if i not in _need:\n",
    "                _need[i] = 1\n",
    "                _have[i] = 0\n",
    "            else:\n",
    "                _need[i] += 1\n",
    "        a = 0\n",
    "        b = 0\n",
    "        ans = s\n",
    "        while b <= len(s) and a < len(s) - len(t):\n",
    "            # print(s[a:b],_have,_sum,\"a is {} and b is {}\".format(a,b))\n",
    "            if _sum == count:\n",
    "                # print(\"here\")\n",
    "                if s[a] in _need:\n",
    "                    _have[s[a]] -= 1\n",
    "                    if _need[s[a]] > _have[s[a]]:\n",
    "                        _sum -= 1\n",
    "                    else:\n",
    "                        # ans.append(s[a:b])\n",
    "                        print(\"try   : \",s[a:b+1])\n",
    "                        ans = s[a:b+1] if len(s[a:b+1]) < len(ans) else ans\n",
    "                        print(\"ans   : \",ans)\n",
    "                else:\n",
    "                    # ans.append(s[a:b])\n",
    "                    print(\"try   : \",s[a:b+1])\n",
    "                    ans = s[a+1:b+1] if len(s[a+1:b+1]) < len(ans) else ans\n",
    "                    print(\"ans   : \",ans)\n",
    "                a+=1\n",
    "            elif s[b] in _need:\n",
    "                if _need[s[b]] > _have[s[b]]:\n",
    "                    _have[s[b]] += 1\n",
    "                    _sum+=1\n",
    "                    if _sum == count:\n",
    "                        # ans.append(s[a:b+1])\n",
    "                        print(\"try   : \",s[a:b])\n",
    "                        ans = s[a:b+1] if len(s[a:b+1]) < len(ans) else ans\n",
    "                        print(\"ans   : \",ans)\n",
    "                    b+=1\n",
    "                else:\n",
    "                    _have[s[b]] += 1\n",
    "                    b+=1\n",
    "            else:\n",
    "                if _sum == count:\n",
    "                    a+=1\n",
    "                else:\n",
    "                    b+=1\n",
    "        print(ans)\n",
    "\n",
    "ob = Solution()\n",
    "ob.minWindow(\"ADOBECODEBANC\",\"ABC\")"
   ]
  },
  {
   "cell_type": "code",
   "execution_count": 2,
   "metadata": {},
   "outputs": [
    {
     "name": "stdout",
     "output_type": "stream",
     "text": [
      "0 4 2 9\n"
     ]
    },
    {
     "data": {
      "text/plain": [
       "15"
      ]
     },
     "execution_count": 2,
     "metadata": {},
     "output_type": "execute_result"
    }
   ],
   "source": [
    "from typing import List\n",
    "\n",
    "class Solution:\n",
    "    def garbageCollection(self, garbage: List[str], travel: List[int]) -> int:\n",
    "        m = 0\n",
    "        g = 0\n",
    "        p = 0\n",
    "        distance = 0\n",
    "        for i in range(len(garbage)):\n",
    "            for j in garbage[i]:\n",
    "                if j == \"M\":\n",
    "                    m+=1\n",
    "                elif j == \"G\":\n",
    "                    g +=1\n",
    "                else:\n",
    "                    p +=1\n",
    "            if i != len(travel):\n",
    "                distance += travel[i]\n",
    "        print(m,g,p,distance)\n",
    "        return m + g + p + distance\n",
    "    \n",
    "ob = Solution()\n",
    "ob.garbageCollection([\"G\",\"P\",\"GP\",\"GG\"],[2,4,3])"
   ]
  },
  {
   "cell_type": "code",
   "execution_count": null,
   "metadata": {},
   "outputs": [],
   "source": [
    "class Solution:\n",
    "    def containsNearbyDuplicate(self, nums: List[int], k: int) -> bool:\n",
    "        dic = {}\n",
    "        for i in range(len(nums)):\n",
    "            if nums[i] not in dic:\n",
    "                dic[nums[i]] = [i]\n",
    "            else:\n",
    "                for z in dic[nums[i]]:\n",
    "                    if abs(z - i) == k:\n",
    "                        return True\n",
    "                else:\n",
    "                    dic[nums[i]] += [i]\n",
    "        return False"
   ]
  }
 ],
 "metadata": {
  "kernelspec": {
   "display_name": "Python 3",
   "language": "python",
   "name": "python3"
  },
  "language_info": {
   "codemirror_mode": {
    "name": "ipython",
    "version": 3
   },
   "file_extension": ".py",
   "mimetype": "text/x-python",
   "name": "python",
   "nbconvert_exporter": "python",
   "pygments_lexer": "ipython3",
   "version": "3.11.4"
  },
  "orig_nbformat": 4
 },
 "nbformat": 4,
 "nbformat_minor": 2
}
