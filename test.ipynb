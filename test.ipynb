{
 "cells": [
  {
   "cell_type": "code",
   "execution_count": 13,
   "metadata": {},
   "outputs": [],
   "source": [
    "from typing import List\n",
    "import bisect\n"
   ]
  },
  {
   "cell_type": "code",
   "execution_count": 14,
   "metadata": {},
   "outputs": [],
   "source": [
    "from itertools import permutations"
   ]
  },
  {
   "cell_type": "code",
   "execution_count": null,
   "metadata": {},
   "outputs": [],
   "source": [
    "lis = permutations([1,2,3,4])\n",
    "for i in lis:\n",
    "    print(i)"
   ]
  },
  {
   "cell_type": "code",
   "execution_count": null,
   "metadata": {},
   "outputs": [],
   "source": [
    "class Solution:\n",
    "    def nextPermutation(self, nums: List[int]) -> None:\n",
    "        \"\"\"\n",
    "        Do not return anything, modify nums in-place instead.\n",
    "        \"\"\"\n",
    "        leng = len(nums)\n",
    "        if leng == 1:\n",
    "            return\n",
    "        \n",
    "        def change(ans):\n",
    "            for i in range(len(ans)):\n",
    "                nums[i] = ans[i]\n",
    "            return\n",
    "        \n",
    "        for i in range(1, leng):\n",
    "            right = leng - 1\n",
    "            left = right - i\n",
    "            while left >= 0:\n",
    "                if nums[right] > nums[left]:\n",
    "                    nums[left], nums[right] = nums[right], nums[left]\n",
    "                    temp = nums[:left+1] + sorted(nums[left+1])\n",
    "                    change(temp)\n",
    "                    return\n",
    "                left -= 1\n",
    "                right -= 1\n",
    "        nums.sort()"
   ]
  }
 ],
 "metadata": {
  "kernelspec": {
   "display_name": "Python 3",
   "language": "python",
   "name": "python3"
  },
  "language_info": {
   "codemirror_mode": {
    "name": "ipython",
    "version": 3
   },
   "file_extension": ".py",
   "mimetype": "text/x-python",
   "name": "python",
   "nbconvert_exporter": "python",
   "pygments_lexer": "ipython3",
   "version": "3.11.7"
  }
 },
 "nbformat": 4,
 "nbformat_minor": 2
}
