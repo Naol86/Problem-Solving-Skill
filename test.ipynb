{
 "cells": [
  {
   "cell_type": "code",
   "execution_count": 69,
   "metadata": {},
   "outputs": [],
   "source": [
    "from typing import List\n",
    "import numpy as np\n",
    "import math "
   ]
  },
  {
   "cell_type": "code",
   "execution_count": 52,
   "metadata": {},
   "outputs": [
    {
     "name": "stdout",
     "output_type": "stream",
     "text": [
      "2 0 4\n",
      "0 1\n",
      "0 0 1\n",
      "0 -1\n"
     ]
    },
    {
     "data": {
      "text/plain": [
       "-1"
      ]
     },
     "execution_count": 52,
     "metadata": {},
     "output_type": "execute_result"
    }
   ],
   "source": [
    "class Solution:\n",
    "    def search(self, nums: List[int], target: int) -> int:\n",
    "        a = 0\n",
    "        b = len(nums) - 1\n",
    "        count=0\n",
    "        while(a <= b) and count < 40:\n",
    "            count +=1\n",
    "            mid = (a + b) // 2\n",
    "            print(mid,a,b)\n",
    "            if nums[mid] == target:\n",
    "                return mid\n",
    "            elif nums[mid] > target and target < nums[a]:\n",
    "                b = mid - 1\n",
    "            elif nums[mid] < target and target > nums[a]:\n",
    "                a = mid + 1\n",
    "            elif nums[mid] > target and target > nums[a]:\n",
    "                b = mid - 1\n",
    "            elif nums[mid] < target and target <= nums[a]:\n",
    "                a = mid + 1\n",
    "            print(a,b)\n",
    "        return -1\n",
    "\n",
    "ob = Solution()\n",
    "ob.search([5,1,2,3,4],1)"
   ]
  },
  {
   "cell_type": "code",
   "execution_count": 47,
   "metadata": {},
   "outputs": [
    {
     "name": "stdout",
     "output_type": "stream",
     "text": [
      "{'a': 1, 'b': 1}\n",
      "{'a': 0, 'b': 0}\n"
     ]
    },
    {
     "data": {
      "text/plain": [
       "True"
      ]
     },
     "execution_count": 47,
     "metadata": {},
     "output_type": "execute_result"
    }
   ],
   "source": [
    "class Solution:\n",
    "    def checkInclusion(self, s1: str, s2: str) -> bool:\n",
    "        if len(s1) > len(s2):\n",
    "            return False\n",
    "        lis = {}\n",
    "        temp = {}\n",
    "        for i in range(len(s1)):\n",
    "            if s1[i] in lis:\n",
    "                lis[s1[i]] += 1\n",
    "            else:\n",
    "                temp[s1[i]] = 0\n",
    "                lis[s1[i]] = 1\n",
    "        print(lis)\n",
    "        print(temp)\n",
    "        for i in range(len(s1)):\n",
    "            if s2[i] in temp:\n",
    "                temp[s2[i]] +=1\n",
    "        if lis == temp:\n",
    "            return True\n",
    "        a = 0\n",
    "        b = len(s1)\n",
    "        while b < len(s2):\n",
    "            if s2[b] in temp:\n",
    "                temp[s2[b]] +=1\n",
    "            if s2[a] in temp:\n",
    "                temp[s2[b]] -=1\n",
    "            if temp == lis:\n",
    "                return True\n",
    "            b+=1\n",
    "            a+=1\n",
    "        return False\n",
    "\n",
    "ob = Solution()\n",
    "ob.checkInclusion(\"ab\",\"eidbaooo\")"
   ]
  },
  {
   "cell_type": "code",
   "execution_count": null,
   "metadata": {},
   "outputs": [],
   "source": [
    "class Solution:\n",
    "    def getSumAbsoluteDifferences(self, nums: List[int]) -> List[int]:\n",
    "        ans = []\n",
    "        length = len(nums)\n",
    "        temp = [[0] * length for i in range(length)]\n",
    "        for i in range(length):\n",
    "            \n",
    "        return ans"
   ]
  },
  {
   "cell_type": "code",
   "execution_count": 3,
   "metadata": {},
   "outputs": [
    {
     "name": "stdout",
     "output_type": "stream",
     "text": [
      "12\n"
     ]
    }
   ],
   "source": [
    "class test:\n",
    "    def __init__(self, nums) -> None:\n",
    "        self.nums = nums\n",
    "    def te(self):\n",
    "        print(self.nums)\n",
    "ob = test(12)\n",
    "ob.te()"
   ]
  },
  {
   "cell_type": "code",
   "execution_count": 17,
   "metadata": {},
   "outputs": [
    {
     "data": {
      "text/plain": [
       "array([0, 0, 0, 0, 0, 0, 0, 0, 0, 0], dtype=int32)"
      ]
     },
     "execution_count": 17,
     "metadata": {},
     "output_type": "execute_result"
    }
   ],
   "source": [
    "temp =np.zeros(10,dtype=\"int32\")\n",
    "temp[2:4] + 1\n",
    "temp"
   ]
  },
  {
   "cell_type": "code",
   "execution_count": 59,
   "metadata": {},
   "outputs": [
    {
     "name": "stdout",
     "output_type": "stream",
     "text": [
      "[-2]\n",
      "y\n"
     ]
    },
    {
     "data": {
      "text/plain": [
       "'y'"
      ]
     },
     "execution_count": 59,
     "metadata": {},
     "output_type": "execute_result"
    }
   ],
   "source": [
    "\n",
    "class Solution:\n",
    "    def shiftingLetters(self, s: str, shifts: List[List[int]]) -> str:\n",
    "        temp = np.zeros(len(s),dtype=\"int32\")\n",
    "        for i in shifts:\n",
    "            if i[-1] == 0:\n",
    "                temp[i[0]:i[1]+1] = temp[i[0]:i[1]+1] - 1\n",
    "            else:\n",
    "                temp[i[0]:i[1]+1] = temp[i[0]:i[1]+1] + 1\n",
    "        ans = \"\"\n",
    "        print(temp)\n",
    "        a = ord('a')\n",
    "        z = ord('z')\n",
    "        for i in range(len(s)):\n",
    "            ch = ord(s[i]) + temp[i]\n",
    "            if ch >= a and ch <= z:\n",
    "                ans += chr(ch)\n",
    "            elif ch > z:\n",
    "                ch = (ch - z)%26 + a - 1\n",
    "                ans += chr(ch)\n",
    "            else:\n",
    "                ch = z - (a - ch)%26 + 1\n",
    "                ans += chr(ch) \n",
    "            print(ans)\n",
    "        return ans\n",
    "\n",
    "ob = Solution()\n",
    "ob.shiftingLetters(\"a\",[[0,0,0],[0,0,0]])"
   ]
  },
  {
   "cell_type": "code",
   "execution_count": 60,
   "metadata": {},
   "outputs": [
    {
     "data": {
      "text/plain": [
       "97"
      ]
     },
     "execution_count": 60,
     "metadata": {},
     "output_type": "execute_result"
    }
   ],
   "source": [
    "ord('a')"
   ]
  },
  {
   "cell_type": "code",
   "execution_count": 61,
   "metadata": {},
   "outputs": [
    {
     "data": {
      "text/plain": [
       "18"
      ]
     },
     "execution_count": 61,
     "metadata": {},
     "output_type": "execute_result"
    }
   ],
   "source": [
    "70%26"
   ]
  },
  {
   "cell_type": "code",
   "execution_count": 66,
   "metadata": {},
   "outputs": [
    {
     "data": {
      "text/plain": [
       "['asdfasdf', 'asdfasdf', 'asdfasdf', 'asdfasdf']"
      ]
     },
     "execution_count": 66,
     "metadata": {},
     "output_type": "execute_result"
    }
   ],
   "source": [
    "lis = [input() for i in range(4)]\n",
    "lis"
   ]
  },
  {
   "cell_type": "code",
   "execution_count": null,
   "metadata": {},
   "outputs": [],
   "source": [
    "class Solution:\n",
    "    def threeSumClosest(self, nums: List[int], target: int) -> int:\n",
    "        nums.sort()\n",
    "        _sum = sum(nums[:3])\n",
    "        a = 0\n",
    "        b = 3\n",
    "        while b < len(nums):\n",
    "            if _sum == target:\n",
    "                return target\n",
    "            elif abs(_sum - target) > abs(_sum - nums[a] + nums[b] - target):\n",
    "                _sum = _sum - nums[a] + nums[b]\n",
    "            a+=1\n",
    "            b+=1\n",
    "        return _sum"
   ]
  },
  {
   "cell_type": "code",
   "execution_count": 67,
   "metadata": {},
   "outputs": [
    {
     "data": {
      "text/plain": [
       "-1"
      ]
     },
     "execution_count": 67,
     "metadata": {},
     "output_type": "execute_result"
    }
   ],
   "source": [
    "class Solution:\n",
    "    def search(self, nums: List[int], target: int) -> int:\n",
    "        a = 0\n",
    "        b = len(nums) - 1\n",
    "        count=0\n",
    "        while(a <= b) and count < 40:\n",
    "            count +=1\n",
    "            mid = (a + b) // 2\n",
    "            if nums[mid] == target:\n",
    "                return mid\n",
    "            elif nums[mid] < target and target < nums[a]:\n",
    "                a = mid + 1\n",
    "            elif nums[mid] > target and target < nums[a]:\n",
    "                a = mid + 1\n",
    "            elif nums[mid] > target and target > nums[a]:\n",
    "                b = mid - 1\n",
    "            else:\n",
    "                b = mid - 1\n",
    "        return -1\n",
    "    \n",
    "ob = Solution()\n",
    "ob.search([5,1,2,3,4],1)"
   ]
  },
  {
   "cell_type": "code",
   "execution_count": null,
   "metadata": {},
   "outputs": [],
   "source": [
    "class Solution:\n",
    "    def generate(self, numRows: int) -> List[List[int]]:\n",
    "        lis = []\n",
    "        pre = [1]\n",
    "        for i in range(numRows):\n",
    "            lis.append(pre)\n",
    "            pre = \n",
    "            "
   ]
  },
  {
   "cell_type": "code",
   "execution_count": null,
   "metadata": {},
   "outputs": [],
   "source": [
    "class Solution:\n",
    "    def constructRectangle(self, area: int) -> List[int]:\n",
    "        if area < 4:\n",
    "            return [area, 1]\n",
    "        for i in range(int(math.sqrt(area + 1) +1),1,-1):\n",
    "            if area%i == 0:\n",
    "                return [area/i , i]\n",
    "        else:\n",
    "            return [area, 1]"
   ]
  },
  {
   "cell_type": "code",
   "execution_count": 106,
   "metadata": {},
   "outputs": [
    {
     "name": "stdout",
     "output_type": "stream",
     "text": [
      "3\n",
      "['-', '2', '0', '2']\n"
     ]
    },
    {
     "data": {
      "text/plain": [
       "'-202'"
      ]
     },
     "execution_count": 106,
     "metadata": {},
     "output_type": "execute_result"
    }
   ],
   "source": [
    "class Solution:\n",
    "    def convertToBase7(self, num: int) -> str:\n",
    "        digit = 0\n",
    "        if num == 0:\n",
    "            return '0'\n",
    "        ans = []\n",
    "        if num < 0:\n",
    "            num = abs(num)\n",
    "            ans.append('-')\n",
    "        while 7**digit - 1 < num:\n",
    "            digit += 1\n",
    "        print(digit)\n",
    "        while digit > 0:\n",
    "            ans.append(str(num//(7**(digit-1))))\n",
    "            num = num % (7**(digit-1))\n",
    "            digit -= 1\n",
    "        print(ans)\n",
    "        return ''.join(ans)\n",
    "\n",
    "ob = Solution()\n",
    "ob.convertToBase7(-100)"
   ]
  },
  {
   "cell_type": "code",
   "execution_count": null,
   "metadata": {},
   "outputs": [],
   "source": []
  }
 ],
 "metadata": {
  "kernelspec": {
   "display_name": "Python 3",
   "language": "python",
   "name": "python3"
  },
  "language_info": {
   "codemirror_mode": {
    "name": "ipython",
    "version": 3
   },
   "file_extension": ".py",
   "mimetype": "text/x-python",
   "name": "python",
   "nbconvert_exporter": "python",
   "pygments_lexer": "ipython3",
   "version": "3.11.4"
  }
 },
 "nbformat": 4,
 "nbformat_minor": 2
}
