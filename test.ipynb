{
 "cells": [
  {
   "cell_type": "code",
   "execution_count": 1,
   "metadata": {},
   "outputs": [],
   "source": [
    "from typing import List"
   ]
  },
  {
   "cell_type": "code",
   "execution_count": 52,
   "metadata": {},
   "outputs": [
    {
     "name": "stdout",
     "output_type": "stream",
     "text": [
      "2 0 4\n",
      "0 1\n",
      "0 0 1\n",
      "0 -1\n"
     ]
    },
    {
     "data": {
      "text/plain": [
       "-1"
      ]
     },
     "execution_count": 52,
     "metadata": {},
     "output_type": "execute_result"
    }
   ],
   "source": [
    "class Solution:\n",
    "    def search(self, nums: List[int], target: int) -> int:\n",
    "        a = 0\n",
    "        b = len(nums) - 1\n",
    "        count=0\n",
    "        while(a <= b) and count < 40:\n",
    "            count +=1\n",
    "            mid = (a + b) // 2\n",
    "            print(mid,a,b)\n",
    "            if nums[mid] == target:\n",
    "                return mid\n",
    "            elif nums[mid] > target and target < nums[a]:\n",
    "                b = mid - 1\n",
    "            elif nums[mid] < target and target > nums[a]:\n",
    "                a = mid + 1\n",
    "            elif nums[mid] > target and target > nums[a]:\n",
    "                b = mid - 1\n",
    "            elif nums[mid] < target and target <= nums[a]:\n",
    "                a = mid + 1\n",
    "            print(a,b)\n",
    "        return -1\n",
    "\n",
    "ob = Solution()\n",
    "ob.search([5,1,2,3,4],1)"
   ]
  },
  {
   "cell_type": "code",
   "execution_count": 47,
   "metadata": {},
   "outputs": [
    {
     "name": "stdout",
     "output_type": "stream",
     "text": [
      "{'a': 1, 'b': 1}\n",
      "{'a': 0, 'b': 0}\n"
     ]
    },
    {
     "data": {
      "text/plain": [
       "True"
      ]
     },
     "execution_count": 47,
     "metadata": {},
     "output_type": "execute_result"
    }
   ],
   "source": [
    "class Solution:\n",
    "    def checkInclusion(self, s1: str, s2: str) -> bool:\n",
    "        if len(s1) > len(s2):\n",
    "            return False\n",
    "        lis = {}\n",
    "        temp = {}\n",
    "        for i in range(len(s1)):\n",
    "            if s1[i] in lis:\n",
    "                lis[s1[i]] += 1\n",
    "            else:\n",
    "                temp[s1[i]] = 0\n",
    "                lis[s1[i]] = 1\n",
    "        print(lis)\n",
    "        print(temp)\n",
    "        for i in range(len(s1)):\n",
    "            if s2[i] in temp:\n",
    "                temp[s2[i]] +=1\n",
    "        if lis == temp:\n",
    "            return True\n",
    "        a = 0\n",
    "        b = len(s1)\n",
    "        while b < len(s2):\n",
    "            if s2[b] in temp:\n",
    "                temp[s2[b]] +=1\n",
    "            if s2[a] in temp:\n",
    "                temp[s2[b]] -=1\n",
    "            if temp == lis:\n",
    "                return True\n",
    "            b+=1\n",
    "            a+=1\n",
    "        return False\n",
    "\n",
    "ob = Solution()\n",
    "ob.checkInclusion(\"ab\",\"eidbaooo\")"
   ]
  },
  {
   "cell_type": "code",
   "execution_count": null,
   "metadata": {},
   "outputs": [],
   "source": []
  }
 ],
 "metadata": {
  "kernelspec": {
   "display_name": "Python 3",
   "language": "python",
   "name": "python3"
  },
  "language_info": {
   "codemirror_mode": {
    "name": "ipython",
    "version": 3
   },
   "file_extension": ".py",
   "mimetype": "text/x-python",
   "name": "python",
   "nbconvert_exporter": "python",
   "pygments_lexer": "ipython3",
   "version": "3.11.4"
  }
 },
 "nbformat": 4,
 "nbformat_minor": 2
}
