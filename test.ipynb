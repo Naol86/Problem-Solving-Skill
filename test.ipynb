{
 "cells": [
  {
   "cell_type": "code",
   "execution_count": 38,
   "metadata": {},
   "outputs": [
    {
     "name": "stdout",
     "output_type": "stream",
     "text": [
      "1\n"
     ]
    }
   ],
   "source": [
    "print(1)"
   ]
  },
  {
   "cell_type": "code",
   "execution_count": 39,
   "metadata": {},
   "outputs": [],
   "source": [
    "from typing import List "
   ]
  },
  {
   "cell_type": "code",
   "execution_count": null,
   "metadata": {},
   "outputs": [],
   "source": [
    "class Solution:\n",
    "    def longestSubstring(self, s: str, k: int) -> int:\n",
    "        ans = 0\n",
    "        dic = {}\n",
    "        count = 0\n",
    "        a = 0\n",
    "        i = 0\n",
    "        while a < i and i < len(s):\n",
    "            if count == k:\n",
    "                if s[a] != \n",
    "            elif s[i] in dic:\n",
    "                dic[s[i]] = 1\n",
    "            else:\n",
    "                "
   ]
  },
  {
   "cell_type": "code",
   "execution_count": 42,
   "metadata": {},
   "outputs": [
    {
     "data": {
      "text/plain": [
       "65"
      ]
     },
     "execution_count": 42,
     "metadata": {},
     "output_type": "execute_result"
    }
   ],
   "source": [
    "ord(\"A\")"
   ]
  },
  {
   "cell_type": "code",
   "execution_count": 45,
   "metadata": {},
   "outputs": [
    {
     "data": {
      "text/plain": [
       "'66'"
      ]
     },
     "execution_count": 45,
     "metadata": {},
     "output_type": "execute_result"
    }
   ],
   "source": [
    "str(66)"
   ]
  },
  {
   "cell_type": "code",
   "execution_count": 46,
   "metadata": {},
   "outputs": [
    {
     "data": {
      "text/plain": [
       "'ab'"
      ]
     },
     "execution_count": 46,
     "metadata": {},
     "output_type": "execute_result"
    }
   ],
   "source": [
    "a = [\"a\",\"b\"]\n",
    "\"\".join(a)"
   ]
  },
  {
   "cell_type": "code",
   "execution_count": null,
   "metadata": {},
   "outputs": [],
   "source": [
    "class Solution:\n",
    "    def rev(self, num):\n",
    "        a = str(num)\n",
    "        a = a[::-1]\n",
    "        return int(a)\n",
    "    def countNicePairs(self, nums: List[int]) -> int:\n",
    "        if len(nums) < 1:\n",
    "            return 0\n",
    "        ans = 0\n",
    "        dic = {}\n",
    "        for i in nums:\n",
    "            if i - Solution.rev(self, i) in dic:\n",
    "                ans += dic[i - Solution.rev(self, i)]\n",
    "                dic[i - Solution.rev(self, i)] += 1\n",
    "            else:\n",
    "                dic[i - Solution.rev(self, i)] = 1\n",
    "        return ans"
   ]
  },
  {
   "cell_type": "code",
   "execution_count": 57,
   "metadata": {},
   "outputs": [
    {
     "name": "stdout",
     "output_type": "stream",
     "text": [
      "[18, 0, 0, 18]\n",
      "{18: 2, 0: 2}\n"
     ]
    },
    {
     "data": {
      "text/plain": [
       "2"
      ]
     },
     "execution_count": 57,
     "metadata": {},
     "output_type": "execute_result"
    }
   ],
   "source": [
    "import numpy as np\n",
    "class Solution:\n",
    "    def rev(self, num):\n",
    "        a = str(num)\n",
    "        a = a[::-1]\n",
    "        return int(a)\n",
    "    def countNicePairs(self, nums: List[int]) -> int:\n",
    "        if len(nums) < 1:\n",
    "            return 0\n",
    "        ans = 0\n",
    "        dic = {}\n",
    "        lis = []\n",
    "        for i in nums:\n",
    "            lis.append(i - Solution.rev(self,i))\n",
    "        for i in lis:\n",
    "            if i not in dic:\n",
    "                dic[i] = 1\n",
    "            else:\n",
    "                dic[i] += 1\n",
    "        for i in dic:\n",
    "            ans += int(dic[i]/2)\n",
    "        return ans\n",
    "ob =Solution()\n",
    "ob.countNicePairs([42,11,1,97])"
   ]
  },
  {
   "cell_type": "code",
   "execution_count": null,
   "metadata": {},
   "outputs": [],
   "source": [
    "class Solution:\n",
    "    def mySqrt(self, x: int) -> int:\n",
    "        a = 0\n",
    "        b = x\n",
    "        mid = (a + b) // 2 \n",
    "        while mid ** 2 != x:\n",
    "            if mid**2 > x:\n",
    "                b = mid\n",
    "            else:\n",
    "                a = mid\n",
    "            mid = (a + b) // 2\n",
    "        return mid"
   ]
  }
 ],
 "metadata": {
  "kernelspec": {
   "display_name": "Python 3",
   "language": "python",
   "name": "python3"
  },
  "language_info": {
   "codemirror_mode": {
    "name": "ipython",
    "version": 3
   },
   "file_extension": ".py",
   "mimetype": "text/x-python",
   "name": "python",
   "nbconvert_exporter": "python",
   "pygments_lexer": "ipython3",
   "version": "3.11.4"
  },
  "orig_nbformat": 4
 },
 "nbformat": 4,
 "nbformat_minor": 2
}
