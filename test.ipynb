{
 "cells": [
  {
   "cell_type": "code",
   "execution_count": 1,
   "metadata": {},
   "outputs": [],
   "source": [
    "from typing import List"
   ]
  },
  {
   "cell_type": "code",
   "execution_count": 3,
   "metadata": {},
   "outputs": [
    {
     "data": {
      "text/plain": [
       "[{}, {}, {}, {}, {}, {}, {}, {}, {}]"
      ]
     },
     "execution_count": 3,
     "metadata": {},
     "output_type": "execute_result"
    }
   ],
   "source": [
    "lis = [{} for i in range(9)]\n",
    "lis"
   ]
  },
  {
   "cell_type": "code",
   "execution_count": null,
   "metadata": {},
   "outputs": [],
   "source": [
    "class Solution:\n",
    "    def isValidSudoku(self, board: List[List[str]]) -> bool:\n",
    "        row = [{} for i in range(9)]\n",
    "        col = [{} for i in range(9)]\n",
    "        sub_box = [[{} for i in range(3)] for i in range(3)]\n",
    "        for i in range(9):\n",
    "            for j in range(9):\n",
    "                temp_num = board[i][j]\n",
    "                if temp_num == '.':\n",
    "                    continue\n",
    "                if temp_num in row[i]:\n",
    "                    return False\n",
    "                else:\n",
    "                    row[i].add(temp_num)\n",
    "                if temp_num in col[j]:\n",
    "                    return False\n",
    "                else:\n",
    "                    col[j].add(temp_num)\n",
    "                box_index = i//3 + j//3\n",
    "                if temp_num in sub_box[i][j]:\n",
    "                    return False\n",
    "                else:\n",
    "                    sub_box[i][j].add(temp_num)\n",
    "        return True"
   ]
  },
  {
   "cell_type": "code",
   "execution_count": 5,
   "metadata": {},
   "outputs": [
    {
     "name": "stdout",
     "output_type": "stream",
     "text": [
      "[[{}, {}, {}], [{}, {}, {}], [{}, {}, {}]]\n"
     ]
    }
   ],
   "source": [
    "sub_box = [[{} for i in range(3)] for i in range(3)]\n",
    "print(sub_box)"
   ]
  },
  {
   "cell_type": "code",
   "execution_count": null,
   "metadata": {},
   "outputs": [],
   "source": []
  }
 ],
 "metadata": {
  "kernelspec": {
   "display_name": "Python 3",
   "language": "python",
   "name": "python3"
  },
  "language_info": {
   "codemirror_mode": {
    "name": "ipython",
    "version": 3
   },
   "file_extension": ".py",
   "mimetype": "text/x-python",
   "name": "python",
   "nbconvert_exporter": "python",
   "pygments_lexer": "ipython3",
   "version": "3.11.4"
  }
 },
 "nbformat": 4,
 "nbformat_minor": 2
}
