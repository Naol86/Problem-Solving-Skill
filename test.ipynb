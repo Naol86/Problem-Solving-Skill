{
 "cells": [
  {
   "cell_type": "code",
   "execution_count": 1,
   "metadata": {},
   "outputs": [],
   "source": [
    "from typing import List\n",
    "import numpy as np"
   ]
  },
  {
   "cell_type": "code",
   "execution_count": 17,
   "metadata": {},
   "outputs": [],
   "source": [
    "class Solution:\n",
    "    def getSum(self, a: int, b: int) -> int:\n",
    "        num1 = bin(a)\n",
    "        num1 = num1[2:]\n",
    "        num2 = bin(b)\n",
    "        num2 = num2[2:]\n",
    "        _max_len = max(len(a),len(b))\n",
    "        num1 = \"0\"*(_max_len-len(num1)) + num1\n",
    "        num2 = \"0\"* (_max_len-len(num2)) + num2\n",
    "        ans = []\n",
    "        carry = 0\n",
    "        for i in range(len(num1)-1,-1,-1):\n",
    "            if carry and int(num1[i]) and int(num2[i]):\n",
    "                ans.append(\"1\")\n",
    "                carry = 1\n",
    "            elif int(num1[i]) and int(num2[i]):\n",
    "                ans.append(\"0\")\n",
    "                carry = 1\n",
    "            elif int(num1[i]) or int(num2[i]):\n",
    "                if carry == 1:\n",
    "                    ans.append(\"0\")\n",
    "                    carry = 0\n",
    "                else:\n",
    "                    ans.append(\"1\")\n",
    "            else:\n",
    "                if carry == 1:\n",
    "                    ans.append(\"1\")\n",
    "                    carry = 0\n",
    "                else:\n",
    "                    ans.append(\"0\")\n",
    "        if carry == 1:\n",
    "            ans.append(\"1\")\n",
    "        ans = \"\".join(ans[::-1])\n",
    "        return int(ans,2)"
   ]
  },
  {
   "cell_type": "code",
   "execution_count": 34,
   "metadata": {},
   "outputs": [
    {
     "data": {
      "text/plain": [
       "-9"
      ]
     },
     "execution_count": 34,
     "metadata": {},
     "output_type": "execute_result"
    }
   ],
   "source": [
    "int(\"-1001\",2)"
   ]
  },
  {
   "cell_type": "code",
   "execution_count": null,
   "metadata": {},
   "outputs": [],
   "source": []
  }
 ],
 "metadata": {
  "kernelspec": {
   "display_name": "Python 3",
   "language": "python",
   "name": "python3"
  },
  "language_info": {
   "codemirror_mode": {
    "name": "ipython",
    "version": 3
   },
   "file_extension": ".py",
   "mimetype": "text/x-python",
   "name": "python",
   "nbconvert_exporter": "python",
   "pygments_lexer": "ipython3",
   "version": "3.11.4"
  }
 },
 "nbformat": 4,
 "nbformat_minor": 2
}
