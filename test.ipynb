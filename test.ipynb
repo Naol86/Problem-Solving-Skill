{
 "cells": [
  {
   "cell_type": "code",
   "execution_count": 2,
   "metadata": {},
   "outputs": [],
   "source": [
    "from typing import List"
   ]
  },
  {
   "cell_type": "code",
   "execution_count": null,
   "metadata": {},
   "outputs": [],
   "source": [
    "class Solution:\n",
    "    def sortColors(self, nums: List[int]) -> None:\n",
    "        \"\"\"\n",
    "        Do not return anything, modify nums in-place instead.\n",
    "        \"\"\"\n",
    "        if len(nums) <= 1:\n",
    "            return\n",
    "        for i in range(1,len(nums)):\n",
    "            temp = nums[i]\n",
    "            for j in range(i - 1,-1,-1):\n",
    "                if temp < nums[j]:\n",
    "                    temp1 = nums[i]\n",
    "                    nums[i] = nums[j]\n",
    "                    nums[j] = temp1\n",
    "                else:\n",
    "                    break\n",
    "        print(nums)"
   ]
  },
  {
   "cell_type": "code",
   "execution_count": null,
   "metadata": {},
   "outputs": [],
   "source": [
    "class Solution:\n",
    "    def checkArithmeticSubarrays(self, nums: List[int], l: List[int], r: List[int]) -> List[bool]:\n",
    "        ans = []\n",
    "        for i in range(len(r)):\n",
    "            temp = nums[l[i]:r[i]+1]\n",
    "            if len(temp) < 2:\n",
    "                ans.append(True)\n",
    "                continue\n",
    "            temp.sort()\n",
    "            diff = temp[0] - temp[1]\n",
    "            for j in range(1,len(temp)):\n",
    "                if temp[j-1] - temp[j] != diff:\n",
    "                    ans.append(False)\n",
    "                    break\n",
    "            else:\n",
    "                ans.append(True)\n",
    "        return ans"
   ]
  },
  {
   "cell_type": "code",
   "execution_count": null,
   "metadata": {},
   "outputs": [],
   "source": [
    "class Solution:\n",
    "    def isAnagram(self, s: str, t: str) -> bool:\n",
    "        dic = {}\n",
    "        dic2 = {}\n",
    "        for i in range(len(s)):\n",
    "            if s[i] not in dic:\n",
    "                dic[s[i]] = 1\n",
    "            else:\n",
    "                dic[s[i]] +=1\n",
    "        for i in range(len(t)):\n",
    "            if t[i] not in dic2:\n",
    "                dic2[t[i]] = 1\n",
    "            else:\n",
    "                dic2[t[i]] +=1\n",
    "        if dic == dic2:\n",
    "            return True\n",
    "        else:\n",
    "            return False"
   ]
  },
  {
   "cell_type": "code",
   "execution_count": 3,
   "metadata": {},
   "outputs": [
    {
     "data": {
      "text/plain": [
       "False"
      ]
     },
     "execution_count": 3,
     "metadata": {},
     "output_type": "execute_result"
    }
   ],
   "source": [
    "dic = {'a':1}\n",
    "dic2 = {'a': 1,'b':1}\n",
    "dic == dic2"
   ]
  },
  {
   "cell_type": "code",
   "execution_count": null,
   "metadata": {},
   "outputs": [],
   "source": []
  }
 ],
 "metadata": {
  "kernelspec": {
   "display_name": "Python 3",
   "language": "python",
   "name": "python3"
  },
  "language_info": {
   "codemirror_mode": {
    "name": "ipython",
    "version": 3
   },
   "file_extension": ".py",
   "mimetype": "text/x-python",
   "name": "python",
   "nbconvert_exporter": "python",
   "pygments_lexer": "ipython3",
   "version": "3.11.4"
  }
 },
 "nbformat": 4,
 "nbformat_minor": 2
}
