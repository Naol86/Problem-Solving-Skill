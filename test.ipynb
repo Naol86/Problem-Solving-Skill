{
 "cells": [
  {
   "cell_type": "code",
   "execution_count": 1,
   "metadata": {},
   "outputs": [
    {
     "name": "stdout",
     "output_type": "stream",
     "text": [
      "nf\n"
     ]
    }
   ],
   "source": [
    "print(\"nf\")"
   ]
  },
  {
   "cell_type": "code",
   "execution_count": 18,
   "metadata": {},
   "outputs": [
    {
     "name": "stdout",
     "output_type": "stream",
     "text": [
      "[]\n"
     ]
    }
   ],
   "source": [
    "from typing import List\n",
    "\n",
    "\n",
    "class Solution:\n",
    "    def summaryRanges(self, nums: List[int]) -> List[str]:\n",
    "        ans = []\n",
    "        if len(nums)==0:\n",
    "            return []\n",
    "        temp = f\"{nums[0]}\"\n",
    "        for i in range(1,len(nums)):\n",
    "            print(nums[i],temp)\n",
    "            if nums[i-1]+1!=nums[i]:\n",
    "                if temp == f\"{nums[i-1]}\":\n",
    "                    ans += [temp]\n",
    "                    temp = f\"{nums[i]}\"\n",
    "                else:\n",
    "                    temp = temp + f\"->{nums[i-1]}\"\n",
    "                    ans += [temp]\n",
    "                    temp = f\"{nums[i]}\"\n",
    "        if len(nums)>0 and temp != f\"{nums[-1]}\":\n",
    "            temp = temp + f\"->{nums[-1]}\"\n",
    "        ans += [temp]\n",
    "        return ans\n",
    "\n",
    "ob = Solution()\n",
    "print(ob.summaryRanges([]))"
   ]
  },
  {
   "cell_type": "code",
   "execution_count": 26,
   "metadata": {},
   "outputs": [
    {
     "name": "stdout",
     "output_type": "stream",
     "text": [
      "[[14, 45]]\n"
     ]
    }
   ],
   "source": [
    "class Solution:\n",
    "    def merge(self, intervals: List[List[int]]) -> List[List[int]]:\n",
    "        Index = 1\n",
    "        intervals.sort()\n",
    "        while (Index < len(intervals)):\n",
    "            if intervals[Index-1][1] >= intervals[Index][0]:\n",
    "                intervals[Index-1][1] = intervals[Index][1] if intervals[Index - 1][1] < intervals[Index][1] else intervals[Index-1][1]\n",
    "                intervals.pop(Index)\n",
    "            else:\n",
    "                Index += 1\n",
    "        return intervals\n",
    "ob = Solution()\n",
    "print(ob.merge([[34,45],[24,35],[14,25]]))"
   ]
  },
  {
   "cell_type": "code",
   "execution_count": 72,
   "metadata": {},
   "outputs": [
    {
     "name": "stdout",
     "output_type": "stream",
     "text": [
      "[[1, 8]]\n"
     ]
    }
   ],
   "source": [
    "class Solution:\n",
    "    def insert(self, intervals: List[List[int]], newInterval: List[int]) -> List[List[int]]:\n",
    "        Index = 0\n",
    "        if len(intervals)==0:\n",
    "            return [newInterval]\n",
    "        for i in range(len(intervals)):\n",
    "            if (newInterval[0] <= intervals[i][1]):\n",
    "                Index = i\n",
    "                if intervals[i][0]>newInterval[0]:\n",
    "                    intervals.insert(i,newInterval)\n",
    "                else:\n",
    "                    intervals.insert(i+1,newInterval)\n",
    "                break\n",
    "            if i == len(intervals)-1:\n",
    "                intervals.insert(i+1,newInterval)\n",
    "        while(Index<len(intervals)-1):\n",
    "            if intervals[Index][1]>=intervals[Index+1][0]:\n",
    "                intervals[Index][1]=intervals[Index+1][1] if intervals[Index+1][1] > intervals[Index][1] else intervals[Index][1]\n",
    "                intervals.pop(Index+1);\n",
    "            else:\n",
    "                break\n",
    "        return intervals\n",
    "\n",
    "ob = Solution()\n",
    "# print(ob.insert([[1, 3], [6, 9]], [2, 5]))\n",
    "# print(ob.insert([[1, 2], [3, 5], [6, 7], [8, 10], [12, 16]],[4,8]))\n",
    "print(ob.insert(\n",
    "    [[1, 5]],\n",
    "    [5, 8]))\n"
   ]
  },
  {
   "cell_type": "code",
   "execution_count": null,
   "metadata": {},
   "outputs": [],
   "source": []
  },
  {
   "cell_type": "code",
   "execution_count": null,
   "metadata": {},
   "outputs": [],
   "source": []
  }
 ],
 "metadata": {
  "kernelspec": {
   "display_name": "Python 3",
   "language": "python",
   "name": "python3"
  },
  "language_info": {
   "codemirror_mode": {
    "name": "ipython",
    "version": 3
   },
   "file_extension": ".py",
   "mimetype": "text/x-python",
   "name": "python",
   "nbconvert_exporter": "python",
   "pygments_lexer": "ipython3",
   "version": "3.9.2"
  },
  "orig_nbformat": 4
 },
 "nbformat": 4,
 "nbformat_minor": 2
}
